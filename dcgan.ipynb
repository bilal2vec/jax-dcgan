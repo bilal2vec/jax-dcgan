{
  "nbformat": 4,
  "nbformat_minor": 0,
  "metadata": {
    "colab": {
      "name": "dcgan",
      "provenance": [],
      "collapsed_sections": [],
      "include_colab_link": true
    },
    "kernelspec": {
      "name": "python3",
      "display_name": "Python 3"
    },
    "accelerator": "TPU",
    "widgets": {
      "application/vnd.jupyter.widget-state+json": {
        "9cec3bc305234935bf4a5d1f1c531706": {
          "model_module": "@jupyter-widgets/controls",
          "model_name": "HBoxModel",
          "state": {
            "_view_name": "HBoxView",
            "_dom_classes": [],
            "_model_name": "HBoxModel",
            "_view_module": "@jupyter-widgets/controls",
            "_model_module_version": "1.5.0",
            "_view_count": null,
            "_view_module_version": "1.5.0",
            "box_style": "",
            "layout": "IPY_MODEL_2ba229df98de46dc9ded293d3ff44f60",
            "_model_module": "@jupyter-widgets/controls",
            "children": [
              "IPY_MODEL_00125fab32a548aeae799b125b700f56",
              "IPY_MODEL_0ae600d2698c458f86b7fc71f50de73d"
            ]
          }
        },
        "2ba229df98de46dc9ded293d3ff44f60": {
          "model_module": "@jupyter-widgets/base",
          "model_name": "LayoutModel",
          "state": {
            "_view_name": "LayoutView",
            "grid_template_rows": null,
            "right": null,
            "justify_content": null,
            "_view_module": "@jupyter-widgets/base",
            "overflow": null,
            "_model_module_version": "1.2.0",
            "_view_count": null,
            "flex_flow": null,
            "width": null,
            "min_width": null,
            "border": null,
            "align_items": null,
            "bottom": null,
            "_model_module": "@jupyter-widgets/base",
            "top": null,
            "grid_column": null,
            "overflow_y": null,
            "overflow_x": null,
            "grid_auto_flow": null,
            "grid_area": null,
            "grid_template_columns": null,
            "flex": null,
            "_model_name": "LayoutModel",
            "justify_items": null,
            "grid_row": null,
            "max_height": null,
            "align_content": null,
            "visibility": null,
            "align_self": null,
            "height": null,
            "min_height": null,
            "padding": null,
            "grid_auto_rows": null,
            "grid_gap": null,
            "max_width": null,
            "order": null,
            "_view_module_version": "1.2.0",
            "grid_template_areas": null,
            "object_position": null,
            "object_fit": null,
            "grid_auto_columns": null,
            "margin": null,
            "display": null,
            "left": null
          }
        },
        "00125fab32a548aeae799b125b700f56": {
          "model_module": "@jupyter-widgets/controls",
          "model_name": "FloatProgressModel",
          "state": {
            "_view_name": "ProgressView",
            "style": "IPY_MODEL_30f97129df734ebc9264bacf51c993bd",
            "_dom_classes": [],
            "description": "Dl Completed...: 100%",
            "_model_name": "FloatProgressModel",
            "bar_style": "success",
            "max": 4,
            "_view_module": "@jupyter-widgets/controls",
            "_model_module_version": "1.5.0",
            "value": 4,
            "_view_count": null,
            "_view_module_version": "1.5.0",
            "orientation": "horizontal",
            "min": 0,
            "description_tooltip": null,
            "_model_module": "@jupyter-widgets/controls",
            "layout": "IPY_MODEL_1d7c0689881a444a8d96022f0603161f"
          }
        },
        "0ae600d2698c458f86b7fc71f50de73d": {
          "model_module": "@jupyter-widgets/controls",
          "model_name": "HTMLModel",
          "state": {
            "_view_name": "HTMLView",
            "style": "IPY_MODEL_2ae5092c9a0c48108ea4f725c9aea35b",
            "_dom_classes": [],
            "description": "",
            "_model_name": "HTMLModel",
            "placeholder": "​",
            "_view_module": "@jupyter-widgets/controls",
            "_model_module_version": "1.5.0",
            "value": " 4/4 [00:00&lt;00:00,  4.73 file/s]",
            "_view_count": null,
            "_view_module_version": "1.5.0",
            "description_tooltip": null,
            "_model_module": "@jupyter-widgets/controls",
            "layout": "IPY_MODEL_e651e478caef416ea7ea13e7d2d3ee23"
          }
        },
        "30f97129df734ebc9264bacf51c993bd": {
          "model_module": "@jupyter-widgets/controls",
          "model_name": "ProgressStyleModel",
          "state": {
            "_view_name": "StyleView",
            "_model_name": "ProgressStyleModel",
            "description_width": "initial",
            "_view_module": "@jupyter-widgets/base",
            "_model_module_version": "1.5.0",
            "_view_count": null,
            "_view_module_version": "1.2.0",
            "bar_color": null,
            "_model_module": "@jupyter-widgets/controls"
          }
        },
        "1d7c0689881a444a8d96022f0603161f": {
          "model_module": "@jupyter-widgets/base",
          "model_name": "LayoutModel",
          "state": {
            "_view_name": "LayoutView",
            "grid_template_rows": null,
            "right": null,
            "justify_content": null,
            "_view_module": "@jupyter-widgets/base",
            "overflow": null,
            "_model_module_version": "1.2.0",
            "_view_count": null,
            "flex_flow": null,
            "width": null,
            "min_width": null,
            "border": null,
            "align_items": null,
            "bottom": null,
            "_model_module": "@jupyter-widgets/base",
            "top": null,
            "grid_column": null,
            "overflow_y": null,
            "overflow_x": null,
            "grid_auto_flow": null,
            "grid_area": null,
            "grid_template_columns": null,
            "flex": null,
            "_model_name": "LayoutModel",
            "justify_items": null,
            "grid_row": null,
            "max_height": null,
            "align_content": null,
            "visibility": null,
            "align_self": null,
            "height": null,
            "min_height": null,
            "padding": null,
            "grid_auto_rows": null,
            "grid_gap": null,
            "max_width": null,
            "order": null,
            "_view_module_version": "1.2.0",
            "grid_template_areas": null,
            "object_position": null,
            "object_fit": null,
            "grid_auto_columns": null,
            "margin": null,
            "display": null,
            "left": null
          }
        },
        "2ae5092c9a0c48108ea4f725c9aea35b": {
          "model_module": "@jupyter-widgets/controls",
          "model_name": "DescriptionStyleModel",
          "state": {
            "_view_name": "StyleView",
            "_model_name": "DescriptionStyleModel",
            "description_width": "",
            "_view_module": "@jupyter-widgets/base",
            "_model_module_version": "1.5.0",
            "_view_count": null,
            "_view_module_version": "1.2.0",
            "_model_module": "@jupyter-widgets/controls"
          }
        },
        "e651e478caef416ea7ea13e7d2d3ee23": {
          "model_module": "@jupyter-widgets/base",
          "model_name": "LayoutModel",
          "state": {
            "_view_name": "LayoutView",
            "grid_template_rows": null,
            "right": null,
            "justify_content": null,
            "_view_module": "@jupyter-widgets/base",
            "overflow": null,
            "_model_module_version": "1.2.0",
            "_view_count": null,
            "flex_flow": null,
            "width": null,
            "min_width": null,
            "border": null,
            "align_items": null,
            "bottom": null,
            "_model_module": "@jupyter-widgets/base",
            "top": null,
            "grid_column": null,
            "overflow_y": null,
            "overflow_x": null,
            "grid_auto_flow": null,
            "grid_area": null,
            "grid_template_columns": null,
            "flex": null,
            "_model_name": "LayoutModel",
            "justify_items": null,
            "grid_row": null,
            "max_height": null,
            "align_content": null,
            "visibility": null,
            "align_self": null,
            "height": null,
            "min_height": null,
            "padding": null,
            "grid_auto_rows": null,
            "grid_gap": null,
            "max_width": null,
            "order": null,
            "_view_module_version": "1.2.0",
            "grid_template_areas": null,
            "object_position": null,
            "object_fit": null,
            "grid_auto_columns": null,
            "margin": null,
            "display": null,
            "left": null
          }
        }
      }
    }
  },
  "cells": [
    {
      "cell_type": "markdown",
      "metadata": {
        "id": "view-in-github",
        "colab_type": "text"
      },
      "source": [
        "<a href=\"https://colab.research.google.com/github/bkkaggle/jax-dcgan/blob/main/dcgan.ipynb\" target=\"_parent\"><img src=\"https://colab.research.google.com/assets/colab-badge.svg\" alt=\"Open In Colab\"/></a>"
      ]
    },
    {
      "cell_type": "code",
      "metadata": {
        "id": "l7zKTAmeI-O-",
        "outputId": "da18392c-50d2-4d80-91d5-a5d0839c7b6e",
        "colab": {
          "base_uri": "https://localhost:8080/",
          "height": 255
        }
      },
      "source": [
        "!pip install flax\n",
        "\n",
        "import requests\n",
        "import os\n",
        "if 'TPU_DRIVER_MODE' not in globals():\n",
        "  url = 'http://' + os.environ['COLAB_TPU_ADDR'].split(':')[0] + ':8475/requestversion/tpu_driver_nightly'\n",
        "  resp = requests.post(url)\n",
        "  TPU_DRIVER_MODE = 1\n",
        "# The following is required to use TPU Driver as JAX's backend.\n",
        "import os\n",
        "from jax.config import config\n",
        "config.FLAGS.jax_xla_backend = \"tpu_driver\"\n",
        "config.FLAGS.jax_backend_target = \"grpc://\" + os.environ['COLAB_TPU_ADDR']\n",
        "print(config.FLAGS.jax_backend_target)"
      ],
      "execution_count": 3,
      "outputs": [
        {
          "output_type": "stream",
          "text": [
            "Requirement already satisfied: flax in /usr/local/lib/python3.6/dist-packages (0.2.2)\n",
            "Requirement already satisfied: dataclasses; python_version < \"3.7\" in /usr/local/lib/python3.6/dist-packages (from flax) (0.7)\n",
            "Requirement already satisfied: jax>=0.1.59 in /usr/local/lib/python3.6/dist-packages (from flax) (0.2.0)\n",
            "Requirement already satisfied: msgpack in /usr/local/lib/python3.6/dist-packages (from flax) (1.0.0)\n",
            "Requirement already satisfied: matplotlib in /usr/local/lib/python3.6/dist-packages (from flax) (3.2.2)\n",
            "Requirement already satisfied: numpy>=1.12 in /usr/local/lib/python3.6/dist-packages (from flax) (1.18.5)\n",
            "Requirement already satisfied: opt-einsum in /usr/local/lib/python3.6/dist-packages (from jax>=0.1.59->flax) (3.3.0)\n",
            "Requirement already satisfied: absl-py in /usr/local/lib/python3.6/dist-packages (from jax>=0.1.59->flax) (0.10.0)\n",
            "Requirement already satisfied: cycler>=0.10 in /usr/local/lib/python3.6/dist-packages (from matplotlib->flax) (0.10.0)\n",
            "Requirement already satisfied: kiwisolver>=1.0.1 in /usr/local/lib/python3.6/dist-packages (from matplotlib->flax) (1.2.0)\n",
            "Requirement already satisfied: pyparsing!=2.0.4,!=2.1.2,!=2.1.6,>=2.0.1 in /usr/local/lib/python3.6/dist-packages (from matplotlib->flax) (2.4.7)\n",
            "Requirement already satisfied: python-dateutil>=2.1 in /usr/local/lib/python3.6/dist-packages (from matplotlib->flax) (2.8.1)\n",
            "Requirement already satisfied: six in /usr/local/lib/python3.6/dist-packages (from absl-py->jax>=0.1.59->flax) (1.15.0)\n",
            "grpc://10.7.83.234:8470\n"
          ],
          "name": "stdout"
        }
      ]
    },
    {
      "cell_type": "code",
      "metadata": {
        "id": "r_ImY8ftMJQI"
      },
      "source": [
        "import numpy as np\n",
        "from tqdm import tqdm\n",
        "import matplotlib.pyplot as plt\n",
        "from functools import partial\n",
        "\n",
        "import jax\n",
        "import jax.numpy as jnp\n",
        "import flax\n",
        "\n",
        "import tensorflow as tf\n",
        "import tensorflow_datasets as tfds\n",
        "\n",
        "def shard(xs):\n",
        "  return jax.tree_map(\n",
        "      lambda x: x.reshape((jax.device_count(), -1) + x.shape[1:]), xs)\n",
        "\n",
        "class Generator(flax.nn.Module):\n",
        "    def apply(self, z, training):\n",
        "        x = flax.nn.ConvTranspose(\n",
        "            z, features=64*8, kernel_size=(4, 4), strides=(1, 1), padding='VALID', bias=False)\n",
        "        x = flax.nn.BatchNorm(\n",
        "            x, use_running_average=not training, momentum=0.9)\n",
        "        x = flax.nn.relu(x)\n",
        "\n",
        "        x = flax.nn.ConvTranspose(\n",
        "            x, features=64*4, kernel_size=(4, 4), strides=(2, 2), padding='SAME', bias=False)\n",
        "        x = flax.nn.BatchNorm(\n",
        "            x, use_running_average=not training, momentum=0.9)\n",
        "        x = flax.nn.relu(x)\n",
        "\n",
        "        x = flax.nn.ConvTranspose(\n",
        "            x, features=64*2, kernel_size=(4, 4), strides=(2, 2), padding='SAME', bias=False)\n",
        "        x = flax.nn.BatchNorm(\n",
        "            x, use_running_average=not training, momentum=0.9)\n",
        "        x = flax.nn.relu(x)\n",
        "\n",
        "        x = flax.nn.ConvTranspose(\n",
        "            x, features=64, kernel_size=(4, 4), strides=(2, 2), padding='SAME', bias=False)\n",
        "        x = flax.nn.BatchNorm(\n",
        "            x, use_running_average=not training, momentum=0.9)\n",
        "        x = flax.nn.relu(x)\n",
        "\n",
        "        x = flax.nn.ConvTranspose(\n",
        "            x, features=1, kernel_size=(4, 4), strides=(1, 1), padding='SAME', bias=False)\n",
        "        return jnp.tanh(x)\n",
        "\n",
        "class Discriminator(flax.nn.Module):\n",
        "    def apply(self, x, training):\n",
        "        x = flax.nn.Conv(x, features=64, kernel_size=(4, 4), strides=(2, 2), padding='SAME', bias=False)\n",
        "        x = flax.nn.leaky_relu(x, negative_slope=0.2)\n",
        "\n",
        "        x = flax.nn.Conv(x, features=64*2, kernel_size=(4, 4), strides=(2, 2), padding='SAME', bias=False)\n",
        "        x = flax.nn.BatchNorm(\n",
        "            x, use_running_average=not training, momentum=0.9)\n",
        "        x = flax.nn.leaky_relu(x, negative_slope=0.2)\n",
        "\n",
        "        x = flax.nn.Conv(x, features=64*4, kernel_size=(4, 4), strides=(2, 2), padding='SAME', bias=False)\n",
        "        x = flax.nn.BatchNorm(\n",
        "            x, use_running_average=not training, momentum=0.9)\n",
        "        x = flax.nn.leaky_relu(x, negative_slope=0.2)\n",
        "\n",
        "        x = flax.nn.Conv(x, features=64*8, kernel_size=(4, 4), strides=(2, 2), padding='SAME', bias=False)\n",
        "        x = flax.nn.BatchNorm(\n",
        "            x, use_running_average=not training, momentum=0.9)\n",
        "        x = flax.nn.leaky_relu(x, negative_slope=0.2)\n",
        "\n",
        "        x = flax.nn.Conv(x, features=1, kernel_size=(1, 1), strides=(4, 4), padding='VALID', bias=False)\n",
        "        x = jnp.reshape(x, [x.shape[0], -1])\n",
        "\n",
        "        return x\n",
        "\n",
        "def make_dataset(batch_size, seed=1):\n",
        "    mnist = tfds.load(\"mnist\")\n",
        "\n",
        "    def _preprocess(sample):\n",
        "        image = tf.image.convert_image_dtype(sample[\"image\"], tf.float32)\n",
        "        image = tf.image.resize(image, (32, 32))\n",
        "        return 2.0 * image - 1.0\n",
        "\n",
        "    ds = mnist[\"train\"]\n",
        "    ds = ds.map(map_func=_preprocess,\n",
        "                num_parallel_calls=tf.data.experimental.AUTOTUNE)\n",
        "    ds = ds.shuffle(10 * batch_size, seed=seed).repeat().batch(batch_size)\n",
        "    return iter(tfds.as_numpy(ds))\n",
        "\n",
        "@jax.vmap\n",
        "def bce_logits_loss(logit, label):\n",
        "    return jnp.maximum(logit, 0) - logit * label + jnp.log(1 + jnp.exp(-jnp.abs(logit)))\n",
        "\n",
        "def loss_g(generator, discriminator, batch, rng, state_g, state_d):\n",
        "    z = jax.random.normal(rng, shape=(batch.shape[0], 1, 1, 100))\n",
        "\n",
        "    with flax.nn.stateful(state_g) as state_g:\n",
        "        fake_batch = generator(z, training=True)\n",
        "\n",
        "    with flax.nn.stateful(state_d) as state_d:\n",
        "        fake_logits = discriminator(fake_batch, training=True)\n",
        "\n",
        "    real_labels = jnp.ones((batch.shape[0],), dtype=jnp.int32)\n",
        "    return jnp.mean(bce_logits_loss(fake_logits, real_labels)), (state_g, state_d)\n",
        "\n",
        "def loss_d(discriminator, generator, batch, rng, state_g, state_d):\n",
        "    z = jax.random.normal(rng, shape=(batch.shape[0], 1, 1, 100))\n",
        "\n",
        "    with flax.nn.stateful(state_g) as state_g:\n",
        "        fake_batch = generator(z, training=True)\n",
        "\n",
        "    with flax.nn.stateful(state_d) as state_d:\n",
        "        real_logits = discriminator(batch, training=True)\n",
        "    with flax.nn.stateful(state_d) as state_d:\n",
        "        fake_logits = discriminator(fake_batch, training=True)\n",
        "\n",
        "    real_labels = jnp.ones((batch.shape[0],), dtype=jnp.int32)\n",
        "    real_loss = bce_logits_loss(real_logits, real_labels)\n",
        "\n",
        "    fake_labels = jnp.zeros((batch.shape[0],), dtype=jnp.int32)\n",
        "    fake_loss = bce_logits_loss(fake_logits, fake_labels)\n",
        "\n",
        "    return jnp.mean(real_loss + fake_loss), (state_g, state_d)\n",
        "\n",
        "@partial(jax.pmap, axis_name='batch')\n",
        "def train_step(rng, state_g, state_d, optimizer_g, optimizer_d, batch):\n",
        "    rng, rng_g, rng_d = jax.random.split(rng, 3)\n",
        "\n",
        "    (g_loss, (state_g, state_d)), grad_g = jax.value_and_grad(loss_g, has_aux=True)(\n",
        "        optimizer_g.target, optimizer_d.target, batch, rng_g, state_g, state_d)\n",
        "    g_loss = jax.lax.pmean(g_loss, axis_name='batch')\n",
        "    grad_g = jax.lax.pmean(grad_g, axis_name='batch')\n",
        "    \n",
        "    optimizer_g = optimizer_g.apply_gradient(grad_g)\n",
        "\n",
        "    (d_loss, (state_g, state_d)), grad_d = jax.value_and_grad(loss_d, has_aux=True)(\n",
        "        optimizer_d.target, optimizer_g.target, batch, rng_d, state_g, state_d)\n",
        "\n",
        "    d_loss = jax.lax.pmean(d_loss, axis_name='batch')\n",
        "    grad_d = jax.lax.pmean(grad_d, axis_name='batch')\n",
        "\n",
        "    optimizer_d = optimizer_d.apply_gradient(grad_d)\n",
        "\n",
        "    return rng, state_g, state_d, optimizer_g, optimizer_d, d_loss, g_loss\n",
        "\n",
        "def main():\n",
        "    dataset = make_dataset(batch_size=256)\n",
        "\n",
        "    rng = jax.random.PRNGKey(42)\n",
        "    rng, rng_g, rng_d = jax.random.split(rng, 3)\n",
        "\n",
        "    with flax.nn.stateful() as state_g:\n",
        "        _, initial_params_g = Generator.init_by_shape(\n",
        "            rng_g, [((1, 1, 1, 100), jnp.float32)], training=True)\n",
        "        generator = flax.nn.Model(Generator, initial_params_g)\n",
        "\n",
        "    with flax.nn.stateful() as state_d:\n",
        "        _, initial_params_d = Discriminator.init_by_shape(\n",
        "            rng_d, [((1, 28, 28, 1), jnp.float32)], training=True)\n",
        "        discriminator = flax.nn.Model(Discriminator, initial_params_d)\n",
        "\n",
        "    optimizer_g = flax.optim.Adam(\n",
        "        learning_rate=1e-4, beta1=0.5, beta2=0.9).create(generator)\n",
        "    optimizer_g = flax.jax_utils.replicate(optimizer_g)\n",
        "\n",
        "    optimizer_d = flax.optim.Adam(\n",
        "        learning_rate=1e-4, beta1=0.5, beta2=0.9).create(discriminator)\n",
        "    optimizer_d = flax.jax_utils.replicate(optimizer_d)\n",
        "\n",
        "    state_g = flax.jax_utils.replicate(state_g)\n",
        "    state_d = flax.jax_utils.replicate(state_d)\n",
        "\n",
        "    g_losses = []\n",
        "    d_losses = []\n",
        "\n",
        "    rngs = jax.random.split(rng, num=jax.local_device_count())\n",
        "\n",
        "    for i in tqdm(range(2000)):\n",
        "        batch = next(dataset)\n",
        "        batch = shard(batch)\n",
        "\n",
        "        rngs, state_g, state_d, optimizer_g, optimizer_d, d_loss, g_loss = train_step(\n",
        "            rngs, state_g, state_d, optimizer_g, optimizer_d, batch)\n",
        "\n",
        "        if i % 10 == 0:\n",
        "          g_losses.append(float(jnp.mean(g_loss)))\n",
        "          d_losses.append(float(jnp.mean(d_loss)))\n",
        "\n",
        "        if i % 500 == 0:\n",
        "            rng, rng_sample = jax.random.split(rng)\n",
        "            z = jax.random.normal(rng_sample, shape=(1, 1, 1, 100))\n",
        "\n",
        "            model = flax.jax_utils.unreplicate(optimizer_g.target)\n",
        "            state_temp = flax.jax_utils.unreplicate(state_g)\n",
        "            with flax.nn.stateful(state_temp) as state_temp:\n",
        "                samples = model(z, training=False)\n",
        "\n",
        "            img = jnp.reshape((samples + 1) / 2, [32, 32])\n",
        "            plt.imshow(img)\n",
        "            plt.show()\n",
        "\n",
        "\n",
        "    return g_losses, d_losses"
      ],
      "execution_count": 5,
      "outputs": []
    },
    {
      "cell_type": "code",
      "metadata": {
        "id": "YIgPwIefs_4P",
        "outputId": "a40cbd99-11da-43f8-a240-08b52131de1e",
        "colab": {
          "base_uri": "https://localhost:8080/",
          "height": 54
        }
      },
      "source": [
        "print(jax.devices())"
      ],
      "execution_count": 6,
      "outputs": [
        {
          "output_type": "stream",
          "text": [
            "[TpuDevice(id=0, host_id=0, coords=(0,0,0), core_on_chip=0), TpuDevice(id=1, host_id=0, coords=(0,0,0), core_on_chip=1), TpuDevice(id=2, host_id=0, coords=(1,0,0), core_on_chip=0), TpuDevice(id=3, host_id=0, coords=(1,0,0), core_on_chip=1), TpuDevice(id=4, host_id=0, coords=(0,1,0), core_on_chip=0), TpuDevice(id=5, host_id=0, coords=(0,1,0), core_on_chip=1), TpuDevice(id=6, host_id=0, coords=(1,1,0), core_on_chip=0), TpuDevice(id=7, host_id=0, coords=(1,1,0), core_on_chip=1)]\n"
          ],
          "name": "stdout"
        }
      ]
    },
    {
      "cell_type": "code",
      "metadata": {
        "id": "x_IXivdxSB0v",
        "outputId": "82b77f67-c437-4bbf-beb8-2000a1de4af3",
        "colab": {
          "base_uri": "https://localhost:8080/",
          "height": 1000,
          "referenced_widgets": [
            "9cec3bc305234935bf4a5d1f1c531706",
            "2ba229df98de46dc9ded293d3ff44f60",
            "00125fab32a548aeae799b125b700f56",
            "0ae600d2698c458f86b7fc71f50de73d",
            "30f97129df734ebc9264bacf51c993bd",
            "1d7c0689881a444a8d96022f0603161f",
            "2ae5092c9a0c48108ea4f725c9aea35b",
            "e651e478caef416ea7ea13e7d2d3ee23"
          ]
        }
      },
      "source": [
        "g_losses, d_losses = main()"
      ],
      "execution_count": 7,
      "outputs": [
        {
          "output_type": "stream",
          "text": [
            "\u001b[1mDownloading and preparing dataset mnist/3.0.0 (download: 11.06 MiB, generated: Unknown size, total: 11.06 MiB) to /root/tensorflow_datasets/mnist/3.0.0...\u001b[0m\n"
          ],
          "name": "stdout"
        },
        {
          "output_type": "stream",
          "text": [
            "WARNING:absl:Dataset mnist is hosted on GCS. It will automatically be downloaded to your\n",
            "local data directory. If you'd instead prefer to read directly from our public\n",
            "GCS bucket (recommended if you're running on GCP), you can instead set\n",
            "data_dir=gs://tfds-data/datasets.\n",
            "\n"
          ],
          "name": "stderr"
        },
        {
          "output_type": "display_data",
          "data": {
            "application/vnd.jupyter.widget-view+json": {
              "model_id": "9cec3bc305234935bf4a5d1f1c531706",
              "version_minor": 0,
              "version_major": 2
            },
            "text/plain": [
              "HBox(children=(FloatProgress(value=0.0, description='Dl Completed...', max=4.0, style=ProgressStyle(descriptio…"
            ]
          },
          "metadata": {
            "tags": []
          }
        },
        {
          "output_type": "stream",
          "text": [
            "\n",
            "\n",
            "\u001b[1mDataset mnist downloaded and prepared to /root/tensorflow_datasets/mnist/3.0.0. Subsequent calls will reuse this data.\u001b[0m\n"
          ],
          "name": "stdout"
        },
        {
          "output_type": "stream",
          "text": [
            "\r  0%|          | 0/2000 [00:00<?, ?it/s]"
          ],
          "name": "stderr"
        },
        {
          "output_type": "display_data",
          "data": {
            "image/png": "[encoded data removed]",
            "text/plain": [
              "<Figure size 432x288 with 1 Axes>"
            ]
          },
          "metadata": {
            "tags": [],
            "needs_background": "light"
          }
        },
        {
          "output_type": "stream",
          "text": [
            " 25%|██▍       | 499/2000 [01:00<02:49,  8.88it/s]"
          ],
          "name": "stderr"
        },
        {
          "output_type": "display_data",
          "data": {
            "image/png": "[encoded data removed]",
            "text/plain": [
              "<Figure size 432x288 with 1 Axes>"
            ]
          },
          "metadata": {
            "tags": [],
            "needs_background": "light"
          }
        },
        {
          "output_type": "stream",
          "text": [
            " 50%|█████     | 1000/2000 [01:50<01:35, 10.48it/s]"
          ],
          "name": "stderr"
        },
        {
          "output_type": "display_data",
          "data": {
            "image/png": "[encoded data removed]",
            "text/plain": [
              "<Figure size 432x288 with 1 Axes>"
            ]
          },
          "metadata": {
            "tags": [],
            "needs_background": "light"
          }
        },
        {
          "output_type": "stream",
          "text": [
            " 75%|███████▌  | 1500/2000 [02:48<00:54,  9.11it/s]"
          ],
          "name": "stderr"
        },
        {
          "output_type": "display_data",
          "data": {
            "image/png": "[encoded data removed]",
            "text/plain": [
              "<Figure size 432x288 with 1 Axes>"
            ]
          },
          "metadata": {
            "tags": [],
            "needs_background": "light"
          }
        },
        {
          "output_type": "stream",
          "text": [
            "100%|██████████| 2000/2000 [03:45<00:00,  8.87it/s]\n"
          ],
          "name": "stderr"
        }
      ]
    },
    {
      "cell_type": "code",
      "metadata": {
        "id": "R-8zEWe3Cez4",
        "outputId": "1d5c826a-03b2-48c2-bd22-8e254dd51c7e",
        "colab": {
          "base_uri": "https://localhost:8080/",
          "height": 265
        }
      },
      "source": [
        "plt.plot(g_losses, label='g_loss')\n",
        "plt.plot(d_losses, label='d_loss')\n",
        "plt.legend()\n",
        "plt.show()"
      ],
      "execution_count": 8,
      "outputs": [
        {
          "output_type": "display_data",
          "data": {
            "image/png": "[encoded data removed]",
            "text/plain": [
              "<Figure size 432x288 with 1 Axes>"
            ]
          },
          "metadata": {
            "tags": [],
            "needs_background": "light"
          }
        }
      ]
    }
  ]
}