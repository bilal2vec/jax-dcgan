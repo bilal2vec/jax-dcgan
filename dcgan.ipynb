{
  "nbformat": 4,
  "nbformat_minor": 0,
  "metadata": {
    "colab": {
      "name": "Copy of dcgan",
      "provenance": [],
      "collapsed_sections": [],
      "include_colab_link": true
    },
    "kernelspec": {
      "name": "python3",
      "display_name": "Python 3"
    },
    "accelerator": "TPU",
    "widgets": {
      "application/vnd.jupyter.widget-state+json": {
        "37fc3c96ceba441786531a627286bd6c": {
          "model_module": "@jupyter-widgets/controls",
          "model_name": "HBoxModel",
          "state": {
            "_view_name": "HBoxView",
            "_dom_classes": [],
            "_model_name": "HBoxModel",
            "_view_module": "@jupyter-widgets/controls",
            "_model_module_version": "1.5.0",
            "_view_count": null,
            "_view_module_version": "1.5.0",
            "box_style": "",
            "layout": "IPY_MODEL_be276daa5c3b4be98c3ba6f8327e703b",
            "_model_module": "@jupyter-widgets/controls",
            "children": [
              "IPY_MODEL_6e897a4d4290412985d5155cd516648a",
              "IPY_MODEL_a65b59ded70d4f53a11587721c580e8a"
            ]
          }
        },
        "be276daa5c3b4be98c3ba6f8327e703b": {
          "model_module": "@jupyter-widgets/base",
          "model_name": "LayoutModel",
          "state": {
            "_view_name": "LayoutView",
            "grid_template_rows": null,
            "right": null,
            "justify_content": null,
            "_view_module": "@jupyter-widgets/base",
            "overflow": null,
            "_model_module_version": "1.2.0",
            "_view_count": null,
            "flex_flow": null,
            "width": null,
            "min_width": null,
            "border": null,
            "align_items": null,
            "bottom": null,
            "_model_module": "@jupyter-widgets/base",
            "top": null,
            "grid_column": null,
            "overflow_y": null,
            "overflow_x": null,
            "grid_auto_flow": null,
            "grid_area": null,
            "grid_template_columns": null,
            "flex": null,
            "_model_name": "LayoutModel",
            "justify_items": null,
            "grid_row": null,
            "max_height": null,
            "align_content": null,
            "visibility": null,
            "align_self": null,
            "height": null,
            "min_height": null,
            "padding": null,
            "grid_auto_rows": null,
            "grid_gap": null,
            "max_width": null,
            "order": null,
            "_view_module_version": "1.2.0",
            "grid_template_areas": null,
            "object_position": null,
            "object_fit": null,
            "grid_auto_columns": null,
            "margin": null,
            "display": null,
            "left": null
          }
        },
        "6e897a4d4290412985d5155cd516648a": {
          "model_module": "@jupyter-widgets/controls",
          "model_name": "FloatProgressModel",
          "state": {
            "_view_name": "ProgressView",
            "style": "IPY_MODEL_c5cf344914b94d1597d6ff1d60a49d05",
            "_dom_classes": [],
            "description": "Dl Completed...: 100%",
            "_model_name": "FloatProgressModel",
            "bar_style": "success",
            "max": 4,
            "_view_module": "@jupyter-widgets/controls",
            "_model_module_version": "1.5.0",
            "value": 4,
            "_view_count": null,
            "_view_module_version": "1.5.0",
            "orientation": "horizontal",
            "min": 0,
            "description_tooltip": null,
            "_model_module": "@jupyter-widgets/controls",
            "layout": "IPY_MODEL_4a1b5e68c5b54a7dba01c0bbb8e75592"
          }
        },
        "a65b59ded70d4f53a11587721c580e8a": {
          "model_module": "@jupyter-widgets/controls",
          "model_name": "HTMLModel",
          "state": {
            "_view_name": "HTMLView",
            "style": "IPY_MODEL_6ae4615a98ef4830b9bb52dd05cc68be",
            "_dom_classes": [],
            "description": "",
            "_model_name": "HTMLModel",
            "placeholder": "​",
            "_view_module": "@jupyter-widgets/controls",
            "_model_module_version": "1.5.0",
            "value": " 4/4 [00:13&lt;00:00,  3.31s/ file]",
            "_view_count": null,
            "_view_module_version": "1.5.0",
            "description_tooltip": null,
            "_model_module": "@jupyter-widgets/controls",
            "layout": "IPY_MODEL_2caf4428d31d41a580f3e2eafd3af6c5"
          }
        },
        "c5cf344914b94d1597d6ff1d60a49d05": {
          "model_module": "@jupyter-widgets/controls",
          "model_name": "ProgressStyleModel",
          "state": {
            "_view_name": "StyleView",
            "_model_name": "ProgressStyleModel",
            "description_width": "initial",
            "_view_module": "@jupyter-widgets/base",
            "_model_module_version": "1.5.0",
            "_view_count": null,
            "_view_module_version": "1.2.0",
            "bar_color": null,
            "_model_module": "@jupyter-widgets/controls"
          }
        },
        "4a1b5e68c5b54a7dba01c0bbb8e75592": {
          "model_module": "@jupyter-widgets/base",
          "model_name": "LayoutModel",
          "state": {
            "_view_name": "LayoutView",
            "grid_template_rows": null,
            "right": null,
            "justify_content": null,
            "_view_module": "@jupyter-widgets/base",
            "overflow": null,
            "_model_module_version": "1.2.0",
            "_view_count": null,
            "flex_flow": null,
            "width": null,
            "min_width": null,
            "border": null,
            "align_items": null,
            "bottom": null,
            "_model_module": "@jupyter-widgets/base",
            "top": null,
            "grid_column": null,
            "overflow_y": null,
            "overflow_x": null,
            "grid_auto_flow": null,
            "grid_area": null,
            "grid_template_columns": null,
            "flex": null,
            "_model_name": "LayoutModel",
            "justify_items": null,
            "grid_row": null,
            "max_height": null,
            "align_content": null,
            "visibility": null,
            "align_self": null,
            "height": null,
            "min_height": null,
            "padding": null,
            "grid_auto_rows": null,
            "grid_gap": null,
            "max_width": null,
            "order": null,
            "_view_module_version": "1.2.0",
            "grid_template_areas": null,
            "object_position": null,
            "object_fit": null,
            "grid_auto_columns": null,
            "margin": null,
            "display": null,
            "left": null
          }
        },
        "6ae4615a98ef4830b9bb52dd05cc68be": {
          "model_module": "@jupyter-widgets/controls",
          "model_name": "DescriptionStyleModel",
          "state": {
            "_view_name": "StyleView",
            "_model_name": "DescriptionStyleModel",
            "description_width": "",
            "_view_module": "@jupyter-widgets/base",
            "_model_module_version": "1.5.0",
            "_view_count": null,
            "_view_module_version": "1.2.0",
            "_model_module": "@jupyter-widgets/controls"
          }
        },
        "2caf4428d31d41a580f3e2eafd3af6c5": {
          "model_module": "@jupyter-widgets/base",
          "model_name": "LayoutModel",
          "state": {
            "_view_name": "LayoutView",
            "grid_template_rows": null,
            "right": null,
            "justify_content": null,
            "_view_module": "@jupyter-widgets/base",
            "overflow": null,
            "_model_module_version": "1.2.0",
            "_view_count": null,
            "flex_flow": null,
            "width": null,
            "min_width": null,
            "border": null,
            "align_items": null,
            "bottom": null,
            "_model_module": "@jupyter-widgets/base",
            "top": null,
            "grid_column": null,
            "overflow_y": null,
            "overflow_x": null,
            "grid_auto_flow": null,
            "grid_area": null,
            "grid_template_columns": null,
            "flex": null,
            "_model_name": "LayoutModel",
            "justify_items": null,
            "grid_row": null,
            "max_height": null,
            "align_content": null,
            "visibility": null,
            "align_self": null,
            "height": null,
            "min_height": null,
            "padding": null,
            "grid_auto_rows": null,
            "grid_gap": null,
            "max_width": null,
            "order": null,
            "_view_module_version": "1.2.0",
            "grid_template_areas": null,
            "object_position": null,
            "object_fit": null,
            "grid_auto_columns": null,
            "margin": null,
            "display": null,
            "left": null
          }
        }
      }
    }
  },
  "cells": [
    {
      "cell_type": "markdown",
      "metadata": {
        "id": "view-in-github",
        "colab_type": "text"
      },
      "source": [
        "<a href=\"https://colab.research.google.com/github/bkkaggle/jax-dcgan/blob/main/dcgan.ipynb\" target=\"_parent\"><img src=\"https://colab.research.google.com/assets/colab-badge.svg\" alt=\"Open In Colab\"/></a>"
      ]
    },
    {
      "cell_type": "code",
      "metadata": {
        "id": "l7zKTAmeI-O-",
        "colab": {
          "base_uri": "https://localhost:8080/"
        },
        "outputId": "648a354c-9ef1-42af-d06f-64264a79607c"
      },
      "source": [
        "!pip install flax\n",
        "\n",
        "import requests\n",
        "import os\n",
        "if 'TPU_DRIVER_MODE' not in globals():\n",
        "  url = 'http://' + os.environ['COLAB_TPU_ADDR'].split(':')[0] + ':8475/requestversion/tpu_driver_nightly'\n",
        "  resp = requests.post(url)\n",
        "  TPU_DRIVER_MODE = 1\n",
        "# The following is required to use TPU Driver as JAX's backend.\n",
        "import os\n",
        "from jax.config import config\n",
        "config.FLAGS.jax_xla_backend = \"tpu_driver\"\n",
        "config.FLAGS.jax_backend_target = \"grpc://\" + os.environ['COLAB_TPU_ADDR']\n",
        "print(config.FLAGS.jax_backend_target)"
      ],
      "execution_count": 1,
      "outputs": [
        {
          "output_type": "stream",
          "text": [
            "Collecting flax\n",
            "\u001b[?25l  Downloading https://files.pythonhosted.org/packages/c7/c0/941b4d2a2164c677fe665b6ddb5ac90306d76f8ffc298f44c41c64b30f1a/flax-0.3.0-py3-none-any.whl (154kB)\n",
            "\r\u001b[K     |██▏                             | 10kB 18.2MB/s eta 0:00:01\r\u001b[K     |████▎                           | 20kB 5.9MB/s eta 0:00:01\r\u001b[K     |██████▍                         | 30kB 4.8MB/s eta 0:00:01\r\u001b[K     |████████▌                       | 40kB 4.9MB/s eta 0:00:01\r\u001b[K     |██████████▋                     | 51kB 5.0MB/s eta 0:00:01\r\u001b[K     |████████████▊                   | 61kB 5.4MB/s eta 0:00:01\r\u001b[K     |██████████████▉                 | 71kB 5.5MB/s eta 0:00:01\r\u001b[K     |█████████████████               | 81kB 5.4MB/s eta 0:00:01\r\u001b[K     |███████████████████             | 92kB 5.1MB/s eta 0:00:01\r\u001b[K     |█████████████████████▏          | 102kB 4.9MB/s eta 0:00:01\r\u001b[K     |███████████████████████▎        | 112kB 4.9MB/s eta 0:00:01\r\u001b[K     |█████████████████████████▍      | 122kB 4.9MB/s eta 0:00:01\r\u001b[K     |███████████████████████████▌    | 133kB 4.9MB/s eta 0:00:01\r\u001b[K     |█████████████████████████████▋  | 143kB 4.9MB/s eta 0:00:01\r\u001b[K     |███████████████████████████████▊| 153kB 4.9MB/s eta 0:00:01\r\u001b[K     |████████████████████████████████| 163kB 4.9MB/s \n",
            "\u001b[?25hRequirement already satisfied: msgpack in /usr/local/lib/python3.6/dist-packages (from flax) (1.0.1)\n",
            "Requirement already satisfied: matplotlib in /usr/local/lib/python3.6/dist-packages (from flax) (3.2.2)\n",
            "Requirement already satisfied: dataclasses; python_version < \"3.7\" in /usr/local/lib/python3.6/dist-packages (from flax) (0.8)\n",
            "Requirement already satisfied: numpy>=1.12 in /usr/local/lib/python3.6/dist-packages (from flax) (1.19.4)\n",
            "Requirement already satisfied: jax>=0.2.6 in /usr/local/lib/python3.6/dist-packages (from flax) (0.2.7)\n",
            "Requirement already satisfied: python-dateutil>=2.1 in /usr/local/lib/python3.6/dist-packages (from matplotlib->flax) (2.8.1)\n",
            "Requirement already satisfied: kiwisolver>=1.0.1 in /usr/local/lib/python3.6/dist-packages (from matplotlib->flax) (1.3.1)\n",
            "Requirement already satisfied: pyparsing!=2.0.4,!=2.1.2,!=2.1.6,>=2.0.1 in /usr/local/lib/python3.6/dist-packages (from matplotlib->flax) (2.4.7)\n",
            "Requirement already satisfied: cycler>=0.10 in /usr/local/lib/python3.6/dist-packages (from matplotlib->flax) (0.10.0)\n",
            "Requirement already satisfied: opt-einsum in /usr/local/lib/python3.6/dist-packages (from jax>=0.2.6->flax) (3.3.0)\n",
            "Requirement already satisfied: absl-py in /usr/local/lib/python3.6/dist-packages (from jax>=0.2.6->flax) (0.10.0)\n",
            "Requirement already satisfied: six>=1.5 in /usr/local/lib/python3.6/dist-packages (from python-dateutil>=2.1->matplotlib->flax) (1.15.0)\n",
            "Installing collected packages: flax\n",
            "Successfully installed flax-0.3.0\n",
            "grpc://10.125.182.234:8470\n"
          ],
          "name": "stdout"
        }
      ]
    },
    {
      "cell_type": "code",
      "metadata": {
        "id": "gglnmnTvEkr0"
      },
      "source": [
        "import os\n",
        "from functools import partial\n",
        "\n",
        "import numpy as np\n",
        "from tqdm import tqdm\n",
        "import matplotlib.pyplot as plt\n",
        "\n",
        "import jax\n",
        "import jax.numpy as jnp\n",
        "\n",
        "import flax\n",
        "from flax import linen as nn\n",
        "\n",
        "import tensorflow as tf\n",
        "import tensorflow_datasets as tfds\n",
        "\n",
        "def shard(xs):\n",
        "    return jax.tree_map(\n",
        "        lambda x: x.reshape((jax.device_count(), -1) + x.shape[1:]), xs)\n",
        "\n",
        "class Generator(nn.Module):\n",
        "    training: bool\n",
        "\n",
        "    @nn.compact\n",
        "    def __call__(self, z):\n",
        "        x = nn.ConvTranspose(features=64*8, kernel_size=(4, 4),\n",
        "                             strides=(1, 1), padding='VALID', use_bias=False)(z)\n",
        "        x = nn.BatchNorm(\n",
        "            use_running_average=not self.training, momentum=0.9)(x)\n",
        "        x = nn.relu(x)\n",
        "\n",
        "        x = nn.ConvTranspose(features=64*4, kernel_size=(4, 4),\n",
        "                             strides=(2, 2), padding='SAME', use_bias=False)(x)\n",
        "        x = nn.BatchNorm(\n",
        "            use_running_average=not self.training, momentum=0.9)(x)\n",
        "        x = nn.relu(x)\n",
        "\n",
        "        x = nn.ConvTranspose(features=64*2, kernel_size=(4, 4),\n",
        "                             strides=(2, 2), padding='SAME', use_bias=False)(x)\n",
        "        x = nn.BatchNorm(\n",
        "            use_running_average=not self.training, momentum=0.9)(x)\n",
        "        x = nn.relu(x)\n",
        "\n",
        "        x = nn.ConvTranspose(features=64, kernel_size=(\n",
        "            4, 4), strides=(2, 2), padding='SAME', use_bias=False)(x)\n",
        "        x = nn.BatchNorm(\n",
        "            use_running_average=not self.training, momentum=0.9)(x)\n",
        "        x = nn.relu(x)\n",
        "\n",
        "        x = nn.ConvTranspose(features=1, kernel_size=(\n",
        "            4, 4), strides=(1, 1), padding='SAME', use_bias=False)(x)\n",
        "        return jnp.tanh(x)\n",
        "\n",
        "\n",
        "class Discriminator(nn.Module):\n",
        "    training: bool\n",
        "\n",
        "    @nn.compact\n",
        "    def __call__(self, x):\n",
        "        x = nn.Conv(features=64, kernel_size=(\n",
        "            4, 4), strides=(2, 2), padding='SAME', use_bias=False)(x)\n",
        "        x = nn.leaky_relu(x, negative_slope=0.2)\n",
        "\n",
        "        x = nn.Conv(features=64*2, kernel_size=(4, 4),\n",
        "                    strides=(2, 2), padding='SAME', use_bias=False)(x)\n",
        "        x = nn.BatchNorm(\n",
        "            use_running_average=not self.training, momentum=0.9)(x)\n",
        "        x = nn.leaky_relu(x, negative_slope=0.2)\n",
        "\n",
        "        x = nn.Conv(features=64*4, kernel_size=(4, 4),\n",
        "                    strides=(2, 2), padding='SAME', use_bias=False)(x)\n",
        "        x = nn.BatchNorm(\n",
        "            use_running_average=not self.training, momentum=0.9)(x)\n",
        "        x = nn.leaky_relu(x, negative_slope=0.2)\n",
        "\n",
        "        x = nn.Conv(features=64*8, kernel_size=(4, 4),\n",
        "                    strides=(2, 2), padding='SAME', use_bias=False)(x)\n",
        "        x = nn.BatchNorm(\n",
        "            use_running_average=not self.training, momentum=0.9)(x)\n",
        "        x = nn.leaky_relu(x, negative_slope=0.2)\n",
        "\n",
        "        x = nn.Conv(features=1, kernel_size=(\n",
        "            1, 1), strides=(4, 4), padding='VALID', use_bias=False)(x)\n",
        "        x = jnp.reshape(x, [x.shape[0], -1])\n",
        "\n",
        "        return x\n",
        "\n",
        "\n",
        "@jax.vmap\n",
        "def bce_logits_loss(logit, label):\n",
        "    return jnp.maximum(logit, 0) - logit * label + jnp.log(1 + jnp.exp(-jnp.abs(logit)))\n",
        "\n",
        "\n",
        "def loss_g(params_g, params_d, batch, rng, variables_g, variables_d):\n",
        "    z = jax.random.normal(rng, shape=(batch.shape[0], 1, 1, 100))\n",
        "\n",
        "    fake_batch, variables_g = Generator(training=True).apply(\n",
        "        {'params': params_g, 'batch_stats': variables_g['batch_stats']}, z, mutable=['batch_stats'])\n",
        "\n",
        "    fake_logits, variables_d = Discriminator(training=True).apply(\n",
        "        {'params': params_d, 'batch_stats': variables_d['batch_stats']}, fake_batch, mutable=['batch_stats'])\n",
        "\n",
        "    real_labels = jnp.ones((batch.shape[0],), dtype=jnp.int32)\n",
        "    return jnp.mean(bce_logits_loss(fake_logits, real_labels)), (variables_g, variables_d)\n",
        "\n",
        "\n",
        "def loss_d(params_d, params_g, batch, rng, variables_g, variables_d):\n",
        "    z = jax.random.normal(rng, shape=(batch.shape[0], 1, 1, 100))\n",
        "\n",
        "    fake_batch, variables_g = Generator(training=True).apply(\n",
        "        {'params': params_g, 'batch_stats': variables_g['batch_stats']}, z, mutable=['batch_stats'])\n",
        "\n",
        "    real_logits, variables_d = Discriminator(training=True).apply(\n",
        "        {'params': params_d, 'batch_stats': variables_d['batch_stats']}, batch, mutable=['batch_stats'])\n",
        "    fake_logits, variables_d = Discriminator(training=True).apply(\n",
        "        {'params': params_d, 'batch_stats': variables_d['batch_stats']}, fake_batch, mutable=['batch_stats'])\n",
        "\n",
        "    real_labels = jnp.ones((batch.shape[0],), dtype=jnp.int32)\n",
        "    real_loss = bce_logits_loss(real_logits, real_labels)\n",
        "\n",
        "    fake_labels = jnp.zeros((batch.shape[0],), dtype=jnp.int32)\n",
        "    fake_loss = bce_logits_loss(fake_logits, fake_labels)\n",
        "\n",
        "    return jnp.mean(real_loss + fake_loss), (variables_g, variables_d)\n",
        "\n",
        "\n",
        "@partial(jax.pmap, axis_name='batch')\n",
        "def train_step(rng, variables_g, variables_d, optimizer_g, optimizer_d, batch):\n",
        "    rng, rng_g, rng_d = jax.random.split(rng, 3)\n",
        "\n",
        "    (g_loss, (variables_g, variables_d)), grad_g = jax.value_and_grad(loss_g, has_aux=True)(\n",
        "        optimizer_g.target, optimizer_d.target, batch, rng_g, variables_g, variables_d)\n",
        "    g_loss = jax.lax.pmean(g_loss, axis_name='batch')\n",
        "    grad_g = jax.lax.pmean(grad_g, axis_name='batch')\n",
        "\n",
        "    optimizer_g = optimizer_g.apply_gradient(grad_g)\n",
        "\n",
        "    (d_loss, (variables_g, variables_d)), grad_d = jax.value_and_grad(loss_d, has_aux=True)(\n",
        "        optimizer_d.target, optimizer_g.target, batch, rng_d, variables_g, variables_d)\n",
        "\n",
        "    d_loss = jax.lax.pmean(d_loss, axis_name='batch')\n",
        "    grad_d = jax.lax.pmean(grad_d, axis_name='batch')\n",
        "\n",
        "    optimizer_d = optimizer_d.apply_gradient(grad_d)\n",
        "\n",
        "    return rng, variables_g, variables_d, optimizer_g, optimizer_d, d_loss, g_loss\n",
        "\n",
        "\n",
        "def make_dataset(batch_size, seed=1):\n",
        "    mnist = tfds.load(\"mnist\")\n",
        "\n",
        "    def _preprocess(sample):\n",
        "        image = tf.image.convert_image_dtype(sample[\"image\"], tf.float32)\n",
        "        image = tf.image.resize(image, (32, 32))\n",
        "        return 2.0 * image - 1.0\n",
        "\n",
        "    ds = mnist[\"train\"]\n",
        "    ds = ds.map(map_func=_preprocess,\n",
        "                num_parallel_calls=tf.data.experimental.AUTOTUNE)\n",
        "    ds = ds.shuffle(10 * batch_size, seed=seed).repeat().batch(batch_size)\n",
        "    return iter(tfds.as_numpy(ds))\n",
        "\n",
        "\n",
        "def main():\n",
        "    dataset = make_dataset(batch_size=256)\n",
        "\n",
        "    rng = jax.random.PRNGKey(42)\n",
        "    rng, rng_g, rng_d = jax.random.split(rng, 3)\n",
        "\n",
        "    init_batch_g = jnp.ones((1, 1, 1, 100), jnp.float32)\n",
        "    variables_g = Generator(training=True).init(rng_g, init_batch_g)\n",
        "\n",
        "    init_batch_d = jnp.ones((1, 32, 32, 1), jnp.float32)\n",
        "    variables_d = Discriminator(training=True).init(rng_d, init_batch_d)\n",
        "\n",
        "    optimizer_g = flax.optim.Adam(\n",
        "        learning_rate=1e-4, beta1=0.5, beta2=0.9).create(variables_g[\"params\"])\n",
        "    optimizer_g = flax.jax_utils.replicate(optimizer_g)\n",
        "\n",
        "    optimizer_d = flax.optim.Adam(\n",
        "        learning_rate=1e-4, beta1=0.5, beta2=0.9).create(variables_d[\"params\"])\n",
        "    optimizer_d = flax.jax_utils.replicate(optimizer_d)\n",
        "\n",
        "    variables_g = flax.jax_utils.replicate(variables_g)\n",
        "    variables_d = flax.jax_utils.replicate(variables_d)\n",
        "\n",
        "    rngs = jax.random.split(rng, num=jax.local_device_count())\n",
        "\n",
        "    g_losses = []\n",
        "    d_losses = []\n",
        "\n",
        "    for i in tqdm(range(2000)):\n",
        "        img_a = shard(next(dataset))\n",
        "\n",
        "        rngs, variables_g, variables_d, optimizer_g, optimizer_d, d_loss, g_loss = train_step(\n",
        "            rngs, variables_g, variables_d, optimizer_g, optimizer_d, img_a)\n",
        "\n",
        "        if i % 10 == 0:\n",
        "            g_losses.append(float(jnp.mean(g_loss)))\n",
        "            d_losses.append(float(jnp.mean(d_loss)))\n",
        "\n",
        "            if i % 500 == 0:\n",
        "                rng, rng_sample = jax.random.split(rng)\n",
        "                z = jax.random.normal(rng_sample, shape=(1, 1, 1, 100))\n",
        "\n",
        "                temp_params_g = flax.jax_utils.unreplicate(\n",
        "                    optimizer_g.target)\n",
        "                temp_variables_g = flax.jax_utils.unreplicate(variables_g)\n",
        "\n",
        "                samples = Generator(training=False).apply(\n",
        "                    {'params': temp_params_g, 'batch_stats': temp_variables_g['batch_stats']}, z, mutable=False)\n",
        "\n",
        "                img = jnp.reshape((samples + 1) / 2, [32, 32])\n",
        "                plt.imshow(img, cmap='gray')\n",
        "                plt.show()\n",
        "    return g_losses, d_losses"
      ],
      "execution_count": 2,
      "outputs": []
    },
    {
      "cell_type": "code",
      "metadata": {
        "id": "YIgPwIefs_4P",
        "colab": {
          "base_uri": "https://localhost:8080/"
        },
        "outputId": "25317f89-ecb6-4b51-a306-ab68a1b6981c"
      },
      "source": [
        "print(jax.devices())"
      ],
      "execution_count": 3,
      "outputs": [
        {
          "output_type": "stream",
          "text": [
            "[TpuDevice(id=0, host_id=0, coords=(0,0,0), core_on_chip=0), TpuDevice(id=1, host_id=0, coords=(0,0,0), core_on_chip=1), TpuDevice(id=2, host_id=0, coords=(1,0,0), core_on_chip=0), TpuDevice(id=3, host_id=0, coords=(1,0,0), core_on_chip=1), TpuDevice(id=4, host_id=0, coords=(0,1,0), core_on_chip=0), TpuDevice(id=5, host_id=0, coords=(0,1,0), core_on_chip=1), TpuDevice(id=6, host_id=0, coords=(1,1,0), core_on_chip=0), TpuDevice(id=7, host_id=0, coords=(1,1,0), core_on_chip=1)]\n"
          ],
          "name": "stdout"
        }
      ]
    },
    {
      "cell_type": "code",
      "metadata": {
        "id": "x_IXivdxSB0v",
        "colab": {
          "base_uri": "https://localhost:8080/",
          "height": 1000,
          "referenced_widgets": [
            "37fc3c96ceba441786531a627286bd6c",
            "be276daa5c3b4be98c3ba6f8327e703b",
            "6e897a4d4290412985d5155cd516648a",
            "a65b59ded70d4f53a11587721c580e8a",
            "c5cf344914b94d1597d6ff1d60a49d05",
            "4a1b5e68c5b54a7dba01c0bbb8e75592",
            "6ae4615a98ef4830b9bb52dd05cc68be",
            "2caf4428d31d41a580f3e2eafd3af6c5"
          ]
        },
        "outputId": "9bdc5b2f-6a5b-4b6f-db9c-3a728f1b204a"
      },
      "source": [
        "g_losses, d_losses = main()"
      ],
      "execution_count": 5,
      "outputs": [
        {
          "output_type": "stream",
          "text": [
            "\u001b[1mDownloading and preparing dataset mnist/3.0.1 (download: 11.06 MiB, generated: 21.00 MiB, total: 32.06 MiB) to /root/tensorflow_datasets/mnist/3.0.1...\u001b[0m\n"
          ],
          "name": "stdout"
        },
        {
          "output_type": "stream",
          "text": [
            "WARNING:absl:Dataset mnist is hosted on GCS. It will automatically be downloaded to your\n",
            "local data directory. If you'd instead prefer to read directly from our public\n",
            "GCS bucket (recommended if you're running on GCP), you can instead pass\n",
            "`try_gcs=True` to `tfds.load` or set `data_dir=gs://tfds-data/datasets`.\n",
            "\n"
          ],
          "name": "stderr"
        },
        {
          "output_type": "display_data",
          "data": {
            "application/vnd.jupyter.widget-view+json": {
              "model_id": "37fc3c96ceba441786531a627286bd6c",
              "version_minor": 0,
              "version_major": 2
            },
            "text/plain": [
              "HBox(children=(FloatProgress(value=0.0, description='Dl Completed...', max=4.0, style=ProgressStyle(descriptio…"
            ]
          },
          "metadata": {
            "tags": []
          }
        },
        {
          "output_type": "stream",
          "text": [
            "\n",
            "\n",
            "\u001b[1mDataset mnist downloaded and prepared to /root/tensorflow_datasets/mnist/3.0.1. Subsequent calls will reuse this data.\u001b[0m\n"
          ],
          "name": "stdout"
        },
        {
          "output_type": "stream",
          "text": [
            "\r  0%|          | 0/2000 [00:00<?, ?it/s]"
          ],
          "name": "stderr"
        },
        {
          "output_type": "display_data",
          "data": {
            "image/png": "[encoded data removed]",
            "text/plain": [
              "<Figure size 432x288 with 1 Axes>"
            ]
          },
          "metadata": {
            "tags": [],
            "needs_background": "light"
          }
        },
        {
          "output_type": "stream",
          "text": [
            " 25%|██▌       | 500/2000 [00:56<01:53, 13.17it/s]"
          ],
          "name": "stderr"
        },
        {
          "output_type": "display_data",
          "data": {
            "image/png": "[encoded data removed]",
            "text/plain": [
              "<Figure size 432x288 with 1 Axes>"
            ]
          },
          "metadata": {
            "tags": [],
            "needs_background": "light"
          }
        },
        {
          "output_type": "stream",
          "text": [
            " 50%|█████     | 1000/2000 [01:36<01:14, 13.39it/s]"
          ],
          "name": "stderr"
        },
        {
          "output_type": "display_data",
          "data": {
            "image/png": "[encoded data removed]",
            "text/plain": [
              "<Figure size 432x288 with 1 Axes>"
            ]
          },
          "metadata": {
            "tags": [],
            "needs_background": "light"
          }
        },
        {
          "output_type": "stream",
          "text": [
            " 75%|███████▌  | 1500/2000 [02:15<00:37, 13.35it/s]"
          ],
          "name": "stderr"
        },
        {
          "output_type": "display_data",
          "data": {
            "image/png": "[encoded data removed]",
            "text/plain": [
              "<Figure size 432x288 with 1 Axes>"
            ]
          },
          "metadata": {
            "tags": [],
            "needs_background": "light"
          }
        },
        {
          "output_type": "stream",
          "text": [
            "100%|██████████| 2000/2000 [02:54<00:00, 11.46it/s]\n"
          ],
          "name": "stderr"
        }
      ]
    },
    {
      "cell_type": "code",
      "metadata": {
        "id": "R-8zEWe3Cez4",
        "colab": {
          "base_uri": "https://localhost:8080/",
          "height": 265
        },
        "outputId": "61fe0e68-ca4b-4717-ae6d-ead7f406ecb8"
      },
      "source": [
        "plt.plot(g_losses, label='g_loss')\n",
        "plt.plot(d_losses, label='d_loss')\n",
        "plt.legend()\n",
        "plt.show()"
      ],
      "execution_count": 6,
      "outputs": [
        {
          "output_type": "display_data",
          "data": {
            "image/png": "[encoded data removed]",
            "text/plain": [
              "<Figure size 432x288 with 1 Axes>"
            ]
          },
          "metadata": {
            "tags": [],
            "needs_background": "light"
          }
        }
      ]
    }
  ]
}